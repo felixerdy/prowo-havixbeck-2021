{
 "cells": [
  {
   "cell_type": "code",
   "execution_count": null,
   "source": [
    "print(\"Hello World\")"
   ],
   "outputs": [],
   "metadata": {}
  }
 ],
 "metadata": {
  "orig_nbformat": 4,
  "language_info": {
   "name": "python",
   "version": "3.7.1"
  },
  "kernelspec": {
   "name": "python3",
   "display_name": "Python 3.7.1 64-bit ('storymapjs3': virtualenv)"
  },
  "interpreter": {
   "hash": "ac73459cb1577dbc06beba17b1a545be9c8b5e5beb7498b727feccc663026db7"
  }
 },
 "nbformat": 4,
 "nbformat_minor": 2
}